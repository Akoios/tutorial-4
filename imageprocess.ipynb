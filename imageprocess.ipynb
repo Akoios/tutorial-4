{
 "cells": [
  {
   "cell_type": "code",
   "execution_count": null,
   "metadata": {},
   "outputs": [],
   "source": [
    "!pip install -r requirements.txt"
   ]
  },
  {
   "cell_type": "code",
   "execution_count": null,
   "metadata": {
    "colab": {
     "base_uri": "https://localhost:8080/",
     "height": 34
    },
    "colab_type": "code",
    "id": "dBpOqJi7OJS3",
    "outputId": "43c6f209-b56b-4f86-c159-5915530da44f"
   },
   "outputs": [],
   "source": [
    "import time\n",
    "import glob\n",
    "import torch\n",
    "import os\n",
    "import requests\n",
    "import json\n",
    "import sys\n",
    "import uuid\n",
    "import requests\n",
    "import subprocess\n",
    "from os.path import exists, join, basename, splitext\n",
    "from IPython.display import Image, clear_output \n",
    "print('PyTorch %s %s' % (torch.__version__, torch.cuda.get_device_properties(0) if torch.cuda.is_available() else 'CPU'))"
   ]
  },
  {
   "cell_type": "code",
   "execution_count": null,
   "metadata": {
    "colab": {
     "base_uri": "https://localhost:8080/",
     "height": 170
    },
    "colab_type": "code",
    "id": "BN0ZFm3aOPvT",
    "outputId": "40b521f9-a518-4875-b9d1-da30aa3ac7a4"
   },
   "outputs": [],
   "source": [
    "!git clone https://github.com/ultralytics/yolov3  # clone\n",
    "!bash yolov3/data/get_coco_dataset_gdrive.sh  # copy COCO2014 dataset (19GB)\n",
    "%cd yolov3"
   ]
  },
  {
   "cell_type": "code",
   "execution_count": 3,
   "metadata": {},
   "outputs": [],
   "source": [
    "def download_image(url):\n",
    "    \"\"\"\n",
    "    Downloads and persists into disk a given image via URL.\n",
    "    \"\"\"\n",
    "    r = requests.get(url)\n",
    "    temp_file = 'image-output-' + uuid.uuid4().hex + '.jpg'\n",
    "    with open(temp_file, 'wb') as f:\n",
    "        f.write(r.content)\n",
    "    return temp_file\n",
    "\n",
    "\n",
    "def process(request):\n",
    "    \"\"\"\n",
    "    Process image and return detection result.\n",
    "    \"\"\"\n",
    "    args = request.get('args', {})\n",
    "    \n",
    "    urls = args.get('param', args.get('url', None))\n",
    "    if not urls or len(urls) < 1:\n",
    "        raise TypeError('Bad request: missing or invalid query param url field')\n",
    "    if not urls[0].startswith('http'):\n",
    "        raise TypeError('Bad request: url param must be a full URL value')\n",
    "    \n",
    "    # Download image\n",
    "    image_file = download_image(urls[0])\n",
    "    \n",
    "    # Detect image object\n",
    "    url = urls[0]\n",
    "    artifacts_path = '../artifacts'\n",
    "    result = subprocess.run([\"python\", \"detect.py\", \"--source\", './' + image_file, '--output', artifacts_path])\n",
    "    if result.returncode > 0:\n",
    "        return json.dumps({ 'error': 'Operation failed with an error code. Try it again with a new image.' })\n",
    "\n",
    "    # filename = basename(url)\n",
    "    if not os.path.exists('../artifacts'):\n",
    "        os.mkdir('../artifacts', 0o755)\n",
    "    \n",
    "    # Clean up local files\n",
    "    if os.path.exists(image_file):\n",
    "        os.remove(image_file)\n",
    "\n",
    "    return image_file\n"
   ]
  },
  {
   "cell_type": "code",
   "execution_count": 4,
   "metadata": {},
   "outputs": [],
   "source": [
    "# Mock request object for local API testing\n",
    "args = {\n",
    "    'param': ['https://m.eldiario.es/fotos/economista-austriaco-Friedrich-Hayek_EDIIMA20191018_0960_19.jpg']\n",
    "}\n",
    "REQUEST = json.dumps({ 'args': args })"
   ]
  },
  {
   "cell_type": "code",
   "execution_count": 5,
   "metadata": {},
   "outputs": [
    {
     "name": "stdout",
     "output_type": "stream",
     "text": [
      "{\"result\": {\"path\": \"artifacts/{\\\"error\\\": \\\"Operation failed with an error code. Try it again with a new image.\\\"}\"}}\n"
     ]
    }
   ],
   "source": [
    "# GET /detect\n",
    "status = 200\n",
    "location = None\n",
    "content_type = 'application/json'\n",
    "\n",
    "try:\n",
    "    request = json.loads(REQUEST)\n",
    "    image_file = process(request)\n",
    "    if request['args'].get('redirect', [False])[0] == 'true':\n",
    "        location = 'artifacts/' + image_file\n",
    "        print(json.dumps({ 'location': 'artifacts/' + image_file }))\n",
    "    else:\n",
    "        print(json.dumps({ 'result': { 'path': 'artifacts/' + image_file } }))\n",
    "except Exception as err:\n",
    "    status = 500\n",
    "    content_type = 'application/json'\n",
    "    print(json.dumps({ 'error': 'Cannot process image due to an error: {}'.format(err)}))"
   ]
  },
  {
   "cell_type": "code",
   "execution_count": null,
   "metadata": {},
   "outputs": [],
   "source": [
    "# ResponseInfo GET /detect\n",
    "headers = {\n",
    "    'Content-Type': content_type\n",
    "}\n",
    "\n",
    "if location:\n",
    "    headers['Location'] = location\n",
    "\n",
    "print(json.dumps({\n",
    "    \"headers\" : headers,\n",
    "    \"status\": status\n",
    "}))"
   ]
  },
  {
   "cell_type": "code",
   "execution_count": null,
   "metadata": {
    "colab": {
     "base_uri": "https://localhost:8080/",
     "height": 565
    },
    "colab_type": "code",
    "id": "Fwzqcjfxdlf7",
    "outputId": "75636b77-b350-4135-8ca2-e5ed6ea3d015"
   },
   "outputs": [],
   "source": [
    "# IMAGE_URL = 'https://i.postimg.cc/rF3W27kn/https-bucketeer-e05bbc84-baa3-437e-9518-adb32be77984-s3-amazon.png'\n",
    "# image_file = basename(IMAGE_URL)\n",
    "\n",
    "# !curl -s -O output/$image_file $IMAGE_URL\n",
    "# !curl -s -O data/samples/$image_file $IMAGE_URL\n",
    "\n",
    "# !python3 detect.py\n",
    "# Image(filename='output/https-bucketeer-e05bbc84-baa3-437e-9518-adb32be77984-s3-amazon.png', width=600)\n"
   ]
  },
  {
   "cell_type": "code",
   "execution_count": null,
   "metadata": {
    "colab": {
     "base_uri": "https://localhost:8080/",
     "height": 51
    },
    "colab_type": "code",
    "id": "J1O-3T-DgYnn",
    "outputId": "eccc42d6-1cc4-48ea-c21a-f4f7a90b1945"
   },
   "outputs": [],
   "source": [
    "%cd /content/ && ls"
   ]
  }
 ],
 "metadata": {
  "colab": {
   "name": "YoloV3.ipynb",
   "provenance": []
  },
  "kernelspec": {
   "display_name": "Python 3",
   "language": "python",
   "name": "python3"
  },
  "language_info": {
   "codemirror_mode": {
    "name": "ipython",
    "version": 3
   },
   "file_extension": ".py",
   "mimetype": "text/x-python",
   "name": "python",
   "nbconvert_exporter": "python",
   "pygments_lexer": "ipython3",
   "version": "3.7.1"
  }
 },
 "nbformat": 4,
 "nbformat_minor": 4
}
